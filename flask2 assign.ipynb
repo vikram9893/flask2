{
 "cells": [
  {
   "cell_type": "code",
   "execution_count": null,
   "id": "401367dd-e014-4bc9-978d-ec99db4465cf",
   "metadata": {},
   "outputs": [],
   "source": [
    "Ans 1 GET is used to request data from a specified resource.\n",
    "Note that the query string (name/value pairs) is sent in the URL of a GET request\n",
    "\n",
    "POST is used to send data to a server to create/update a resource.\n",
    "\n",
    "The data sent to the server with POST is stored in the request body of the HTTP request."
   ]
  },
  {
   "cell_type": "code",
   "execution_count": null,
   "id": "24ef8460-9c7a-43fd-99e1-82eda620e1c7",
   "metadata": {},
   "outputs": [],
   "source": [
    "Ans 2 To access the incoming data in Flask, you have to use the request object. \n",
    "The request object holds all incoming data from the request, which includes the mimetype, referrer, IP address, \n",
    "raw data, HTTP method, and headers, among other things"
   ]
  },
  {
   "cell_type": "code",
   "execution_count": null,
   "id": "98be84de-fe62-4627-83ef-42e5591a3c65",
   "metadata": {},
   "outputs": [],
   "source": [
    "Ans 3 Redirection in Flask can be done by returning a redirect response object, created by invoking the redirect() function. \n",
    "The same method is used for redirecting to other routes on the same application and external websites"
   ]
  },
  {
   "cell_type": "code",
   "execution_count": null,
   "id": "af00ffc0-8cd1-4193-8196-d4d208c557aa",
   "metadata": {},
   "outputs": [],
   "source": [
    "Ans 4 Templates are files that contain static data as well as placeholders for dynamic data. \n",
    "A template is rendered with specific data to produce a final document.\n",
    "Flask uses the Jinja template library to render templates. \n",
    "In your application, you will use templates to render HTML which will display in the user's browser.\n",
    "\n",
    "render_template is a Flask function from the flask. templating package. \n",
    "render_template is used to generate output from a template file based on the Jinja2 engine that is found in the application's templates folder.\n",
    "Note that render_template is typically imported directly from the flask package instead of from flask."
   ]
  },
  {
   "cell_type": "code",
   "execution_count": null,
   "id": "255c7ac8-3f44-410c-961e-3542159ec67b",
   "metadata": {},
   "outputs": [],
   "source": [
    "Ans 5 \n",
    "\n",
    "from flask import Flask, request, jsonify\n",
    "\n",
    "app = Flask(__name__)\n",
    "\n",
    "@app.route('/greeting', methods=['POST'])\n",
    "def greeting():\n",
    "    data = request.get_json()\n",
    "    name = data['name']\n",
    "    message = f'Hello, {name}!'\n",
    "    return jsonify({'message': message})\n",
    "\n",
    "if __name__ == '__main__':\n",
    "    app.run()\n"
   ]
  }
 ],
 "metadata": {
  "kernelspec": {
   "display_name": "Python 3 (ipykernel)",
   "language": "python",
   "name": "python3"
  },
  "language_info": {
   "codemirror_mode": {
    "name": "ipython",
    "version": 3
   },
   "file_extension": ".py",
   "mimetype": "text/x-python",
   "name": "python",
   "nbconvert_exporter": "python",
   "pygments_lexer": "ipython3",
   "version": "3.10.8"
  }
 },
 "nbformat": 4,
 "nbformat_minor": 5
}
